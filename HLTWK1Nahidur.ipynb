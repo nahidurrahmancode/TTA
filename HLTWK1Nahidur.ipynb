{
 "metadata": {
  "language_info": {
   "codemirror_mode": {
    "name": "ipython",
    "version": 3
   },
   "file_extension": ".py",
   "mimetype": "text/x-python",
   "name": "python",
   "nbconvert_exporter": "python",
   "pygments_lexer": "ipython3",
   "version": "3.9.4"
  },
  "orig_nbformat": 2,
  "kernelspec": {
   "name": "python394jvsc74a57bd0247ab06e135bb35fa78c5eff31b2a9a0050dcb5fb773c2631d2a29ac689eeccb",
   "display_name": "Python 3.9.4 64-bit"
  },
  "metadata": {
   "interpreter": {
    "hash": "247ab06e135bb35fa78c5eff31b2a9a0050dcb5fb773c2631d2a29ac689eeccb"
   }
  }
 },
 "nbformat": 4,
 "nbformat_minor": 2,
 "cells": [
  {
   "cell_type": "code",
   "execution_count": 40,
   "metadata": {},
   "outputs": [
    {
     "output_type": "stream",
     "name": "stdout",
     "text": [
      "nah I am thinking of a number between 1 and 10\n",
      "wrong, nah, better luck next time\n"
     ]
    }
   ],
   "source": [
    "# TASK 1\n",
    "#Write a program that does the following:\n",
    "# a) Stores a random number (1-10) in a variable – see hint below.\n",
    "# b) Asks a user for their name and stores this in a variable.\n",
    "# c) Asks a user to guess the number between 1 and 10.\n",
    "# d) Tells the user whether they have guessed correctly.\n",
    "\n",
    "import random # Library for random number\n",
    "#number = random.randint(1,10) #variable for randum number allocation betwwen 1-10\n",
    "\n",
    "your_name=input(\"Enter your name?\")\n",
    "number = random.randint(1,10) #variable for randum muber allocation\n",
    "\n",
    "print(your_name, \"I am thinking of a number between 1 and 10\")\n",
    "\n",
    "entered_number=int(input(\"Enter a number:\")) #int used to convert str data to integer data type\n",
    "\n",
    "if entered_number==number:\n",
    "    print(\"Well done\",your_name+ \", You guessed the correct number\") #+ after vafriable removes the following space\n",
    "else:\n",
    "    print(\"wrong,\",your_name+\", better luck next time\")\n"
   ]
  },
  {
   "cell_type": "code",
   "execution_count": 50,
   "metadata": {},
   "outputs": [
    {
     "output_type": "stream",
     "name": "stdout",
     "text": [
      "What is the best thing about switzerland? I don’t know, but the flag is a big plus.\n"
     ]
    }
   ],
   "source": [
    "# TASK 2\n",
    "\n",
    "# write a program that asks a user for their favourite number between 1 and 100 and then tells them a joke based on the number. You should use a minimum of 3 jokes.\n",
    "joke_1= \"What is the best thing about switzerland? I don’t know, but the flag is a big plus.\"\n",
    "joke_2= \"What did the fish say when he swam into a wall? Dam\"\n",
    "joke_3= \"What do you call a fish with no eyes? A fsh\"\n",
    "\n",
    "entrnum=int(input(\"Enter a number between 1 and 100\")) #int required to change str into integer as in if loop integer values are processed\n",
    "\n",
    "while entrnum >= 101:\n",
    "    entrnum=int(input(\"Invalid Input - Enter a number between 1 and 100 only\"))# loop until a valid input\n",
    "   \n",
    "if entrnum <= 33: #indents to distinguish between loops (while and if)\n",
    "    print(joke_1)\n",
    "        \n",
    "elif entrnum >= 34 and entrnum <=66:\n",
    "    print(joke_2)\n",
    "        \n",
    "elif entrnum >=67 and entrnum <=100:\n",
    "    print(joke_3)\n"
   ]
  },
  {
   "cell_type": "code",
   "execution_count": 42,
   "metadata": {},
   "outputs": [
    {
     "output_type": "stream",
     "name": "stdout",
     "text": [
      "What is your favourite meal combination?\n",
      "Your favourate meal is prawn as a starter and maincourse to be beef desert cake with a glass of coke\n"
     ]
    }
   ],
   "source": [
    "#TASK 3\n",
    "#Write a program that allows user to enter their favourite starter, main course, dessert and drink.\n",
    "# Concatenate these and output a message which says – “Your favourite meal is ………with a glass of….”\n",
    "\n",
    "print(\"What is your favourite meal combination?\")\n",
    "\n",
    "strtr=input(\"Enter your favuorite starter\")\n",
    "mainc=input(\"Enter your favuorite main course\")\n",
    "desrt = input(\"To enter your favourite dessert?\")\n",
    "drnk = input(\"To enter your drink\")\n",
    "print(\"Your favourate meal is\", strtr, \"as a starter and maincourse to be\", mainc,\"desert\", desrt, \"with a glass of\", drnk)\n"
   ]
  },
  {
   "cell_type": "code",
   "execution_count": 58,
   "metadata": {},
   "outputs": [
    {
     "output_type": "stream",
     "name": "stdout",
     "text": [
      "The year 2022 the value of the motorbike is 1800.00 at a deprication rate of 10% pa\nThe year 2023 the value of the motorbike is 1620.00 at a deprication rate of 10% pa\nThe year 2024 the value of the motorbike is 1458.00 at a deprication rate of 10% pa\nThe year 2025 the value of the motorbike is 1312.20 at a deprication rate of 10% pa\nThe year 2026 the value of the motorbike is 1180.98 at a deprication rate of 10% pa\nThe year 2027 the value of the motorbike is 1062.88 at a deprication rate of 10% pa\nThe year 2028 the value of the motorbike is 956.59 at a deprication rate of 10% pa\n"
     ]
    }
   ],
   "source": [
    "#TASK 4\n",
    "# A motorbike costs £2000 and loses 10% of its value every year. Using a  loop, print the value of the bike every following year until it falls below £1000.\n",
    "multiplier = 0.9\n",
    "year=2021\n",
    "cost = 2000\n",
    "\n",
    "while cost >= 1000:\n",
    "    cost = cost * multiplier\n",
    "    year += 1\n",
    "    print(\"The year\",year,\"the value of the motorbike is\", \"%.2f\" % cost, \"at a deprication rate of 10% pa\")"
   ]
  },
  {
   "cell_type": "code",
   "execution_count": 67,
   "metadata": {},
   "outputs": [
    {
     "output_type": "stream",
     "name": "stdout",
     "text": [
      "1.5 + 1.25 = 2.75\n"
     ]
    }
   ],
   "source": [
    "#Task 5\n",
    "#Write a program which will ask for two numbers from a user. Then offer a menu to the user giving them a choice of operator:\n",
    "import math\n",
    "\n",
    "num1 = float(input(\"Enter a number\")) #float to account for decimal inputs\n",
    "num2 = float(input(\"Enter another number\")) \n",
    "opert = input(\"Please choose a math operator (+,-, /, *, **)\") #operation menu\n",
    "\n",
    "if opert == \"+\":\n",
    "    print(num1,opert,num2,\"=\", num1+num2)\n",
    "elif opert == \"-\":\n",
    "       print(num1,opert,num2,\"=\", num1-num2)\n",
    "elif opert == \"*\":\n",
    "       print(num1,opert,num2,\"=\", num1*num2)\n",
    "elif opert == \"/\":\n",
    "        print(num1,opert,num2,\"=\", num1/num2)\n",
    "elif opert == \"**\":\n",
    "        print(num1,opert,num2,\"=\", num1**num2)\n"
   ]
  },
  {
   "cell_type": "code",
   "execution_count": null,
   "metadata": {},
   "outputs": [],
   "source": []
  }
 ]
}