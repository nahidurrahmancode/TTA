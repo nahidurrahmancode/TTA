{
 "metadata": {
  "language_info": {
   "codemirror_mode": {
    "name": "ipython",
    "version": 3
   },
   "file_extension": ".py",
   "mimetype": "text/x-python",
   "name": "python",
   "nbconvert_exporter": "python",
   "pygments_lexer": "ipython3",
   "version": "3.9.4"
  },
  "orig_nbformat": 2,
  "kernelspec": {
   "name": "python394jvsc74a57bd0247ab06e135bb35fa78c5eff31b2a9a0050dcb5fb773c2631d2a29ac689eeccb",
   "display_name": "Python 3.9.4 64-bit"
  },
  "metadata": {
   "interpreter": {
    "hash": "247ab06e135bb35fa78c5eff31b2a9a0050dcb5fb773c2631d2a29ac689eeccb"
   }
  }
 },
 "nbformat": 4,
 "nbformat_minor": 2,
 "cells": [
  {
   "cell_type": "code",
   "execution_count": null,
   "metadata": {},
   "outputs": [],
   "source": [
    "#function to check user input is what it checks so required for it to pass\n",
    "#def floatchecker(userinput):\n",
    "    #try: #\n",
    "       # mynum=float(userinput)\n",
    "        #return mynum #return the float number of the variable\n",
    "   # except:\n",
    "        #return None"
   ]
  },
  {
   "cell_type": "code",
   "execution_count": null,
   "metadata": {},
   "outputs": [],
   "source": [
    "def usernumbers(userprompt):\n",
    "    while True:\n",
    "        num = input(userprompt) #prompt to be used in the user_input function\n",
    "        try:\n",
    "            mynum=float(num)#check if input is a float\n",
    "            break # exit loop if conversion succesfull (no error)\n",
    "        except:\n",
    "            pass #continue to loop \n",
    "        \n",
    "    return mynum"
   ]
  },
  {
   "cell_type": "code",
   "execution_count": null,
   "metadata": {},
   "outputs": [],
   "source": [
    "#function to collect user input data\n",
    "def user_input():\n",
    "    num1 = usernumbers(\"Enter your first number\\n\")#entered value becomes the userprompt parameter of usernumbers\n",
    "    num2 = usernumbers(\"Enter your second number\\n\")\n",
    "        \n",
    "    return num1,num2 #saves the output of the function into a resuable format"
   ]
  },
  {
   "cell_type": "code",
   "execution_count": null,
   "metadata": {},
   "outputs": [],
   "source": [
    "# function to check a correct operator is inputted\n",
    "def optchecker(opt):\n",
    "    if opt in [\"+\", \"-\", \"*\", \"/\",\"**\"]: #in used to check if operator is within the list . Can use not in then swap return and true variables\n",
    "        return True\n",
    "    else:\n",
    "        return False"
   ]
  },
  {
   "cell_type": "code",
   "execution_count": 10,
   "metadata": {},
   "outputs": [],
   "source": [
    "def calculator(num1,num2,opert):\n",
    "    #import math\n",
    "    #num1,num2 = user_input()\n",
    "    \n",
    "    if opert == \"+\":\n",
    "        result = num1+num2\n",
    "    elif opert == \"-\":\n",
    "        result = num1-num2\n",
    "    elif opert == \"*\":\n",
    "        result = num1*num2\n",
    "    elif opert == \"/\":\n",
    "        result = num1/num2\n",
    "    elif opert == \"**\":\n",
    "         result = num1**num2\n",
    "    else:\n",
    "        result = False\n",
    "    return result"
   ]
  },
  {
   "cell_type": "code",
   "execution_count": 11,
   "metadata": {},
   "outputs": [
    {
     "output_type": "stream",
     "name": "stdout",
     "text": [
      "the output of 2.0 + 2.0 = 4.0\nthe output of 2.00 + 2.00 = 4.00\n"
     ]
    }
   ],
   "source": [
    "#calling variables from user_input function. nb1 is being assigned the return value of num1 from the user_input function\n",
    "nb1,nb2= user_input() \n",
    "\n",
    "while True: #loop for operator check\n",
    "    opt = input(\"Please choose a math operator (+,-, /, *, **)\")\n",
    "    if optchecker(opt) == True: #operator function called - loop will continue until user enters a valid operator\n",
    "        break\n",
    "#print(calculator(nb1,nb2,opt))\n",
    "print(\"the output of {} {} {} = {}\".format(nb1, opt, nb2, calculator(nb1, nb2,opt))) \n",
    "print(f\"the output of {nb1:.2f} {opt} {nb2:.2f} = {calculator(nb1, nb2, opt):.2f}\")\n",
    "# curly brackets are placeholders of variables and then you order the variables in the order of your itended format. Variable values are obtained from the function calculator\n",
    "# second print function you put variables and functions INTO the data placeholders"
   ]
  },
  {
   "cell_type": "code",
   "execution_count": null,
   "metadata": {},
   "outputs": [],
   "source": [
    "#start\n",
    "#execute user_input (return nb1 and nb2)\n",
    "# operator input\n",
    "# if optchecker = true\n",
    "# no goes to operator input\n",
    "# print result "
   ]
  }
 ]
}