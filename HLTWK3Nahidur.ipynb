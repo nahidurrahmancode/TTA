{
 "metadata": {
  "language_info": {
   "codemirror_mode": {
    "name": "ipython",
    "version": 3
   },
   "file_extension": ".py",
   "mimetype": "text/x-python",
   "name": "python",
   "nbconvert_exporter": "python",
   "pygments_lexer": "ipython3",
   "version": "3.9.4"
  },
  "orig_nbformat": 2,
  "kernelspec": {
   "name": "python394jvsc74a57bd0247ab06e135bb35fa78c5eff31b2a9a0050dcb5fb773c2631d2a29ac689eeccb",
   "display_name": "Python 3.9.4 64-bit"
  },
  "metadata": {
   "interpreter": {
    "hash": "247ab06e135bb35fa78c5eff31b2a9a0050dcb5fb773c2631d2a29ac689eeccb"
   }
  }
 },
 "nbformat": 4,
 "nbformat_minor": 2,
 "cells": [
  {
   "cell_type": "code",
   "execution_count": null,
   "metadata": {},
   "outputs": [],
   "source": [
    "#HLT1\n",
    "# Write a program that allows you to enter 4 numbers and stores them in a file called “Numbers”\n",
    "\n",
    "task1 = open(\"numbers.txt\",\"w\") # create the file\n",
    "\n",
    "task1.close()"
   ]
  },
  {
   "cell_type": "code",
   "execution_count": null,
   "metadata": {},
   "outputs": [],
   "source": [
    "num1 = float(input(\"Enter your first number\")) #user inputs\n",
    "num2 = float(input(\"Enter your second number\"))\n",
    "num3 = float(input(\"Enter your third number\"))\n",
    "num4 = float(input(\"Enter your fourth number\"))\n",
    "\n",
    "task1 = open(\"numbers.txt\",\"w\")\n",
    "task1.write(f\"{num1} {num2} {num3} {num4}\") #write the inputted numbers to the file\n",
    "task1.close()"
   ]
  },
  {
   "cell_type": "code",
   "execution_count": null,
   "metadata": {},
   "outputs": [],
   "source": [
    "#HLT2\n",
    "# Write a program to ask a student for their percentage mark and convert this to a grade. The conversion will be done in a function called mark_grade\n",
    "#function to check whether a number has been entered\n",
    "def floatchecker(nb): \n",
    "    try:\n",
    "        mynum=float(nb)\n",
    "        return mynum \n",
    "    except:\n",
    "        return None"
   ]
  },
  {
   "cell_type": "code",
   "execution_count": null,
   "metadata": {},
   "outputs": [],
   "source": [
    "# grade conversion function\n",
    "# def mark_grade(percnt):\n",
    "#     from numpy import arange\n",
    "#     #for percnt in arange(90, 100, 0.1):       \n",
    "#     #if 90 <= percnt < 100:\n",
    "#     #if percnt in range (90,100):\n",
    "#         #grade = \"A\"\n",
    "#    # for percnt in arange(80, 90, 0.1):\n",
    "#         grade = \"A\"\n",
    "#    # elif percnt in range (80,89):\n",
    "#         #grade = \"B\"    \n",
    "#     elif 80 <= percnt < 90:\n",
    "#         grade = \"B\"     \n",
    "#     return grade"
   ]
  },
  {
   "cell_type": "code",
   "execution_count": null,
   "metadata": {},
   "outputs": [],
   "source": [
    "def mark_grade(percnt):\n",
    "    grades = [(\"A\", 80), (\"B\", 65), (\"C\", 50), (\"D\", 40), (\"E\", 30), (\"U\", 0)]#series of tuple within a list to check. Tupple contains 2 elemnets/index's grade + lower limit\n",
    "    for mrk in grades: #going/loop through the list\n",
    "        # (element at index 1) in the tuple), print the resulting grade (index o)\n",
    "        if percnt >= mrk[1]: #[1] checking index value 1 of each tuple. If equal or greater than the reference value in the tupple\n",
    "            print(f\"Your percentage of {percnt:.1f}%, converts to grade {mrk[0]}\")\n",
    "            break"
   ]
  },
  {
   "cell_type": "code",
   "execution_count": null,
   "metadata": {},
   "outputs": [],
   "source": [
    "print(\"Grade Conversion Tool\")\n",
    "\n",
    "while True: #loop for valid input\n",
    "    stugrade = input(\"Enter your percentage mark\") #ask student for percentage\n",
    "    mynum1 = floatchecker(stugrade)#local variable assigned to the result of the floatchecker function\n",
    "\n",
    "    if mynum1 != None and mynum1 in range (0,101):\n",
    "        mymark=mark_grade(mynum1)\n",
    "        #temp_stugrade= mark_grade(mynum1) #assigning a variable to the output of the mark_grade function to be called upon later\n",
    "        #print(f\"Your converted grade is {temp_stugrade}\")\n",
    "        break\n",
    "    else:\n",
    "        print(\"incorrect input. try again.\")"
   ]
  },
  {
   "cell_type": "code",
   "execution_count": 166,
   "metadata": {},
   "outputs": [
    {
     "output_type": "stream",
     "name": "stdout",
     "text": [
      "[0 1 2 3 4 5 6 7 8 9]\n[0 1 2 3 4 5 6 7 8 9]\n"
     ]
    }
   ],
   "source": [
    "#Numpy HLT1\n",
    "#Create a 1D array of numbers from 0 to 9\n",
    "import numpy as np\n",
    "\n",
    "array=np.array([0,1,2,3,4,5,6,7,8,9])\n",
    "print(array)\n",
    "\n",
    "array1=np.arange(10) #evenly spaced array\n",
    "print(array1)\n"
   ]
  },
  {
   "cell_type": "code",
   "execution_count": 165,
   "metadata": {},
   "outputs": [
    {
     "output_type": "stream",
     "name": "stdout",
     "text": [
      "[[ True  True  True]\n [ True  True  True]\n [ True  True  True]] \n\n[[ True  True  True]\n [ True  True  True]\n [ True  True  True]]\n"
     ]
    }
   ],
   "source": [
    "#Numpy HLT2\n",
    "#Create a 3×3 NumPy array of all Boolean value Trues\n",
    "true3x3 = np.full((3,3), True, dtype=bool)\n",
    "print(true3x3,'\\n')\n",
    "\n",
    "true3x3_1= np.ones((3, 3), dtype=bool)\n",
    "print(true3x3_1)"
   ]
  },
  {
   "cell_type": "code",
   "execution_count": 164,
   "metadata": {},
   "outputs": [
    {
     "output_type": "stream",
     "name": "stdout",
     "text": [
      "[1 3 5 7 9]\n"
     ]
    }
   ],
   "source": [
    "#Numpy HLT3\n",
    "#Extract all odd numbers from array of 1-10\n",
    "t3array = np.arange(1, 10) \n",
    "print(t3array[t3array%2==1])\n"
   ]
  },
  {
   "cell_type": "code",
   "execution_count": null,
   "metadata": {},
   "outputs": [],
   "source": [
    "#arr=np.array(range(1,10)) \n",
    "#print(\"even number \",arr[arr%2==0]) \n",
    "#print(\"odd number \", arr[arr%2!=0]) "
   ]
  },
  {
   "cell_type": "code",
   "execution_count": 163,
   "metadata": {},
   "outputs": [
    {
     "output_type": "stream",
     "name": "stdout",
     "text": [
      "[-1  2 -1  4 -1  6 -1  8 -1]\n"
     ]
    }
   ],
   "source": [
    "#Numpy HLT4\n",
    "#Replace all odd numbers in an array of 1-10 with the value -1\n",
    "t4array = np.arange(1, 10)  \n",
    "\n",
    "t4array[t4array%2==1] = -1   #after dividing by 2 if there is a remainder they will now equal -1          \n",
    "print (t4array) "
   ]
  },
  {
   "cell_type": "code",
   "execution_count": 162,
   "metadata": {},
   "outputs": [
    {
     "output_type": "stream",
     "name": "stdout",
     "text": [
      "[[0 1 2]\n [3 4 5]]\n"
     ]
    }
   ],
   "source": [
    "#Numpy HLT5\n",
    "#Convert a 1D array to a 2D array with 2 rows\n",
    "array1Dto2D = np.arange(0,6).reshape(2,3)\n",
    "print(array1Dto2D)"
   ]
  },
  {
   "cell_type": "code",
   "execution_count": 161,
   "metadata": {},
   "outputs": [
    {
     "output_type": "stream",
     "name": "stdout",
     "text": [
      "[ 1  2  3  4  5  6  7  8  9 10] [ 1  2  3  4  5  6  7  8  9 10]\n[[ 1  2  3  4  5  6  7  8  9 10]\n [ 1  2  3  4  5  6  7  8  9 10]]\n110\n385\n"
     ]
    }
   ],
   "source": [
    "#Numpy HLT6\n",
    "#Create two arrays a and b, stack these two arrays vertically use the np.dot and np.sum to calculate totals\n",
    "a=np.arange(1,11)\n",
    "b=np.arange(1,11)\n",
    "print(a,b)\n",
    "\n",
    "stackedab = np.vstack((a,b))\n",
    "print(stackedab)\n",
    "\n",
    "arraysum= np.sum(stackedab)\n",
    "print(arraysum)\n",
    "\n",
    "arraydot = np.dot(a,b)\n",
    "print(arraydot)\n"
   ]
  },
  {
   "cell_type": "code",
   "execution_count": 111,
   "metadata": {},
   "outputs": [
    {
     "output_type": "execute_result",
     "data": {
      "text/plain": [
       "array([1., 1., 1., 2., 2., 2., 3., 3., 3., 1., 2., 3., 1., 2., 3., 1., 2.,\n",
       "       3.])"
      ]
     },
     "metadata": {},
     "execution_count": 111
    }
   ],
   "source": [
    "#Numpy HLT6.1\n",
    "# Create the following pattern without hardcoding. Use only NumPy functions. array([1,1,1,2,2,2,3,3,3,1,2,3,1,2,3,1,2,3])\n",
    "np.concatenate((np.ones(3),np.ones(3)*2,np.ones(3)*3,np.arange(1,4),np.arange(1,4),np.arange(1,4)))"
   ]
  },
  {
   "cell_type": "code",
   "execution_count": 123,
   "metadata": {},
   "outputs": [
    {
     "output_type": "stream",
     "name": "stdout",
     "text": [
      "[6 7 8 9]\n"
     ]
    }
   ],
   "source": [
    "#Numpy HLT6.2\n",
    "# In two arrays a ( 1,2,3,4,5) and b ( 4,5,6,7,8,9) – remove all repeating items present in array b\n",
    "a = np.arange(1,6)\n",
    "b = np.arange(4,10)\n",
    "b2 = np.setdiff1d(b,a)#removes all repeating items from the b array leaving the remainder\n",
    "print(b2) "
   ]
  },
  {
   "cell_type": "code",
   "execution_count": 160,
   "metadata": {},
   "outputs": [
    {
     "output_type": "stream",
     "name": "stdout",
     "text": [
      "[1 2 3 4 5 4 5 6 7 8 9]\n[3 4 5 4 5 6 7]\n34\n"
     ]
    }
   ],
   "source": [
    "#Numpy HLT6.3\n",
    "#Get all items between 3 and 7 from a and b and sum themtogether\n",
    "conc_ab= np.concatenate((a,b))\n",
    "print(conc_ab)\n",
    "#conc_ab=[(conc_ab[conc_ab>=3] and (conc_ab[conc_ab<=7])]\n",
    "#conc_ab= conc_ab[(conc_ab>=3) and (conc_ab<=7)]\n",
    "#conc_ab=np.where(conc_ab > 3,conc_ab<=7)\n",
    "conc_ab = conc_ab[conc_ab>=3]\n",
    "conc_ab = conc_ab[conc_ab<=7] #new array values for conc_ab now passed through with new condition\n",
    "print(conc_ab)\n",
    "\n",
    "sum=np.sum(conc_ab)\n",
    "print(sum)\n"
   ]
  },
  {
   "cell_type": "code",
   "execution_count": null,
   "metadata": {},
   "outputs": [],
   "source": []
  }
 ]
}