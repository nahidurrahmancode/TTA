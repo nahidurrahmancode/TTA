{
 "metadata": {
  "language_info": {
   "codemirror_mode": {
    "name": "ipython",
    "version": 3
   },
   "file_extension": ".py",
   "mimetype": "text/x-python",
   "name": "python",
   "nbconvert_exporter": "python",
   "pygments_lexer": "ipython3",
   "version": "3.9.4"
  },
  "orig_nbformat": 2,
  "kernelspec": {
   "name": "python394jvsc74a57bd0247ab06e135bb35fa78c5eff31b2a9a0050dcb5fb773c2631d2a29ac689eeccb",
   "display_name": "Python 3.9.4 64-bit"
  },
  "metadata": {
   "interpreter": {
    "hash": "247ab06e135bb35fa78c5eff31b2a9a0050dcb5fb773c2631d2a29ac689eeccb"
   }
  }
 },
 "nbformat": 4,
 "nbformat_minor": 2,
 "cells": [
  {
   "cell_type": "code",
   "execution_count": 47,
   "metadata": {},
   "outputs": [],
   "source": [
    "#HLTK1\n",
    "\n",
    "def drinkfunc():\n",
    "    drink=input(\"what drink would you like\")\n",
    "    if drink in [\"coke\", \"pepsi\", \"fanta\"]:\n",
    "        print(\"You have chosen the drink,\",drink)\n",
    "    else:\n",
    "        print(\"incorrect input\")\n",
    "    return drink"
   ]
  },
  {
   "cell_type": "code",
   "execution_count": 48,
   "metadata": {},
   "outputs": [
    {
     "output_type": "stream",
     "name": "stdout",
     "text": [
      "what main would you like\n",
      "You have chosen wrap as your main\n",
      "\n",
      "Now for your sides...\n",
      "fries added to your order\n",
      "\n",
      "You have chosen the drink, coke\n",
      "Your complete meal is a wrap , side of fries and your drink is coke\n"
     ]
    }
   ],
   "source": [
    "\n",
    "print(\"what main would you like\")\n",
    "\n",
    "while True:\n",
    "    main=input(\"Would you like a burger or wrap\")\n",
    "    if main in [\"burger\", \"wrap\"]:\n",
    "        print(\"You have chosen\", main, \"as your main\\n\")\n",
    "        break\n",
    "\n",
    "print(\"Now for your sides...\")\n",
    "\n",
    "while True:\n",
    "    side=input(\"would you like fries\\n Enter yes or no:\")\n",
    "    if side == \"yes\": \n",
    "        print(\"fries added to your order\\n\")\n",
    "        drinkfunc()\n",
    "        print(\"Your complete meal is a\", main, \", side of fries and your drink is\", drink)\n",
    "        break\n",
    "    \n",
    "    if side == \"no\":\n",
    "        print(\"You have chosen not to add fries to your order\\n\")\n",
    "        drinkfunc()\n",
    "        print(\"Your complete meal is a\", main, \"and your drink is\", drink)\n",
    "        break\n",
    "    \n"
   ]
  },
  {
   "cell_type": "code",
   "execution_count": null,
   "metadata": {},
   "outputs": [],
   "source": [
    "# HLT2\n",
    "# As an extension to the motorbike task that costs £2000 and loses 10% of its value every year. Set up a function that performs the calculation by passing in parameters. Then using a loop, print the value of the bike every following year until it falls below £1000\n",
    "\n",
    "# function name. fucntion variables in brackets. formula from week 1 task\n",
    "def func_dep_calc2(initial_year,initial_cost): \n",
    "    multiplier = 0.9\n",
    "    #initial_year= year\n",
    "    #initial_cost = cost \n",
    "    \n",
    "    while initial_cost >= 1000:\n",
    "        initial_cost = initial_cost * multiplier\n",
    "        initial_year += 1\n",
    "        print(\"The year\",initial_year,\"the value of the motorbike is\", \"%.2f\" % initial_cost, \"at a deprication rate of 10% pa\")"
   ]
  },
  {
   "cell_type": "code",
   "execution_count": null,
   "metadata": {},
   "outputs": [],
   "source": [
    "#new variable names to be used function. Can be altered to any name as long as when the function is called the variables are named within the vrackets (parameters)\n",
    "year = int(input(\"Enter asset purchase year\")) \n",
    "cost = float(input(\"Enter initial cost\"))"
   ]
  },
  {
   "cell_type": "code",
   "execution_count": null,
   "metadata": {},
   "outputs": [],
   "source": [
    "func_dep_calc2(initial_year=year, initial_cost=cost) #pass parameters with new variables in brackets. Equating to variables to correspond to the correct argument (boundary setting)"
   ]
  },
  {
   "cell_type": "code",
   "execution_count": null,
   "metadata": {},
   "outputs": [],
   "source": [
    "# HLT3\n",
    "# Write a program which will ask for two numbers from a user. Then offer an option menu to the user giving them a choice of maths operators. Once the user has selected which operator they wish to use,perform the calculation by using a procedure and passing parameters. "
   ]
  },
  {
   "cell_type": "code",
   "execution_count": null,
   "metadata": {},
   "outputs": [],
   "source": [
    "def floatchecker(nb): #function to check user input is what it checks so required for it to pass\n",
    "    try:\n",
    "        mynum=float(nb)\n",
    "        return mynum #return the float number of the variable\n",
    "    except:\n",
    "        return None"
   ]
  },
  {
   "cell_type": "code",
   "execution_count": null,
   "metadata": {},
   "outputs": [],
   "source": [
    "#function to collect user input data\n",
    "def user_input():\n",
    "    while True:\n",
    "        num1 = input(\"Enter your first number\") #float to account for decimal inputs\n",
    "        mynum1 = floatchecker(num1) #call function and checks whether the input is a float then returns the float value\n",
    "\n",
    "        if mynum1 != None: #if it is not equal to none it exists so break\n",
    "            break\n",
    "    \n",
    "    while True:\n",
    "        num2 = input(\"Enter your second number\") #float to account for decimal inputs\n",
    "        mynum2 = floatchecker(num2)\n",
    "\n",
    "        if mynum2 != None:\n",
    "            break\n",
    "        \n",
    "    #num1 = float(input(\"Enter a number\")) #float to account for decimal inputs\n",
    "    #num2 = float(input(\"Enter another number\")) \n",
    "    return mynum1,mynum2 #saves the output of the function into a resuable format"
   ]
  },
  {
   "cell_type": "code",
   "execution_count": null,
   "metadata": {},
   "outputs": [],
   "source": [
    "# function to check a correct operator is inputted\n",
    "def optchecker(opt):\n",
    "    if opt in [\"+\", \"-\", \"*\", \"/\",\"**\"]: #in used to check if operator is within the list . Can use not in then swap return and true variables\n",
    "        return True\n",
    "    else:\n",
    "        return False\n"
   ]
  },
  {
   "cell_type": "code",
   "execution_count": null,
   "metadata": {},
   "outputs": [],
   "source": [
    "def calculator(num1,num2,opert):\n",
    "    #import math\n",
    "    #num1,num2 = user_input()\n",
    "    \n",
    "    if opert == \"+\":\n",
    "        result = num1+num2\n",
    "    elif opert == \"-\":\n",
    "        result = num1-num2\n",
    "    elif opert == \"*\":\n",
    "        result = num1*num2\n",
    "    elif opert == \"/\":\n",
    "        result = num1/num2\n",
    "    elif opert == \"**\":\n",
    "         result = num1**num2\n",
    "    else:\n",
    "        result = False\n",
    "    return result"
   ]
  },
  {
   "cell_type": "code",
   "execution_count": null,
   "metadata": {},
   "outputs": [],
   "source": [
    "#user input returns 2 values. store them as a single value under the form of a tuple. can't change but can read the specific index hence the square bracket for the index number\n",
    "#test = user_input()\n",
    "#print(test)  \n",
    "#print(f\"the output of {test[0]:.2f} {opt} {test[1]:.2f} = {calculator(test[0], test[1], opt):.2f}\")\n",
    "#print(user_input())"
   ]
  },
  {
   "cell_type": "code",
   "execution_count": null,
   "metadata": {},
   "outputs": [],
   "source": [
    "#calling variables from user_input function. nb1 is being assigned the return value of num1 from the user_input function\n",
    "nb1,nb2= user_input() \n",
    "\n",
    "while True: #loop for operator check\n",
    "    opt = input(\"Please choose a math operator (+,-, /, *, **)\")\n",
    "    if optchecker(opt) == True: #operator function called - loop will continue until user enters a valid operator\n",
    "        break\n",
    "#print(calculator(nb1,nb2,opt))\n",
    "print(\"the output of {} {} {} = {}\".format(nb1, opt, nb2, calculator(nb1, nb2,opt))) \n",
    "print(f\"the output of {nb1:.2f} {opt} {nb2:.2f} = {calculator(nb1, nb2, opt):.2f}\")\n",
    "# curly brackets are placeholders of variables and then you order the variables in the order of your itended format. Variable values are obtained from the function calculator\n",
    "# second print function you put variables and functions INTO the data placeholders"
   ]
  }
 ]
}